{
 "metadata": {
  "language_info": {
   "codemirror_mode": {
    "name": "ipython",
    "version": 3
   },
   "file_extension": ".py",
   "mimetype": "text/x-python",
   "name": "python",
   "nbconvert_exporter": "python",
   "pygments_lexer": "ipython3",
   "version": "3.7.4-final"
  },
  "orig_nbformat": 2,
  "kernelspec": {
   "name": "python_defaultSpec_1600415569140",
   "display_name": "Python 3.7.4 64-bit ('yash': virtualenv)"
  }
 },
 "nbformat": 4,
 "nbformat_minor": 2,
 "cells": [
  {
   "source": [
    "# Introduction to Machine Learning\n",
    "Here we are working with the basics of machine learning concepts. It includes some of the famous libraries like Numpy, Pandas, Matplotlib, Scipy and so on."
   ],
   "cell_type": "markdown",
   "metadata": {}
  },
  {
   "cell_type": "code",
   "execution_count": 1,
   "metadata": {},
   "outputs": [],
   "source": [
    "# importing numpy \n",
    "import numpy as np"
   ]
  },
  {
   "cell_type": "code",
   "execution_count": 2,
   "metadata": {
    "tags": []
   },
   "outputs": [
    {
     "output_type": "stream",
     "name": "stdout",
     "text": "x:\n[[1 2 3]\n [4 5 6]]\n"
    }
   ],
   "source": [
    "x = np.array([[1,2,3],[4,5,6]])\n",
    "print(\"x:\\n{}\".format(x))"
   ]
  },
  {
   "cell_type": "code",
   "execution_count": 3,
   "metadata": {
    "tags": []
   },
   "outputs": [
    {
     "output_type": "stream",
     "name": "stdout",
     "text": "NumPy array:\n[[1. 0. 0. 0.]\n [0. 1. 0. 0.]\n [0. 0. 1. 0.]\n [0. 0. 0. 1.]]\n"
    }
   ],
   "source": [
    "from scipy import sparse\n",
    "\n",
    "# create a 2D NumPy array with a diagonal of ones, and zeros everywhere else\n",
    "eye =np.eye(4)\n",
    "print(\"NumPy array:\\n{}\".format(eye))"
   ]
  },
  {
   "cell_type": "code",
   "execution_count": 4,
   "metadata": {
    "tags": []
   },
   "outputs": [
    {
     "output_type": "stream",
     "name": "stdout",
     "text": "\nSciPy sparse CSR matrix:\n  (0, 0)\t1.0\n  (1, 1)\t1.0\n  (2, 2)\t1.0\n  (3, 3)\t1.0\n"
    }
   ],
   "source": [
    "# Convert the NumPy arrey to a SciPy sparse matrix in CSR format\n",
    "# Only the nonzero entries are stored\n",
    "sparse_matrix = sparse.csr_matrix(eye)\n",
    "print(\"\\nSciPy sparse CSR matrix:\\n{}\".format(sparse_matrix))"
   ]
  },
  {
   "cell_type": "code",
   "execution_count": 5,
   "metadata": {
    "tags": []
   },
   "outputs": [
    {
     "output_type": "stream",
     "name": "stdout",
     "text": "COO representation:\n  (0, 0)\t1.0\n  (1, 1)\t1.0\n  (2, 2)\t1.0\n  (3, 3)\t1.0\n"
    }
   ],
   "source": [
    "data = np.ones(4)\n",
    "row_indices = np.arange(4)\n",
    "col_indices = np.arange(4)\n",
    "eye_coo = sparse.coo_matrix((data, (row_indices, col_indices)))\n",
    "print(\"COO representation:\\n{}\".format(eye_coo))"
   ]
  },
  {
   "cell_type": "code",
   "execution_count": 6,
   "metadata": {},
   "outputs": [
    {
     "output_type": "execute_result",
     "data": {
      "text/plain": "[<matplotlib.lines.Line2D at 0x23e0e279bc8>]"
     },
     "metadata": {},
     "execution_count": 6
    },
    {
     "output_type": "display_data",
     "data": {
      "text/plain": "<Figure size 432x288 with 1 Axes>",
      "image/svg+xml": "<?xml version=\"1.0\" encoding=\"utf-8\" standalone=\"no\"?>\r\n<!DOCTYPE svg PUBLIC \"-//W3C//DTD SVG 1.1//EN\"\r\n  \"http://www.w3.org/Graphics/SVG/1.1/DTD/svg11.dtd\">\r\n<!-- Created with matplotlib (https://matplotlib.org/) -->\r\n<svg height=\"248.518125pt\" version=\"1.1\" viewBox=\"0 0 386.845312 248.518125\" width=\"386.845312pt\" xmlns=\"http://www.w3.org/2000/svg\" xmlns:xlink=\"http://www.w3.org/1999/xlink\">\r\n <defs>\r\n  <style type=\"text/css\">\r\n*{stroke-linecap:butt;stroke-linejoin:round;}\r\n  </style>\r\n </defs>\r\n <g id=\"figure_1\">\r\n  <g id=\"patch_1\">\r\n   <path d=\"M 0 248.518125 \r\nL 386.845312 248.518125 \r\nL 386.845312 0 \r\nL 0 0 \r\nz\r\n\" style=\"fill:none;\"/>\r\n  </g>\r\n  <g id=\"axes_1\">\r\n   <g id=\"patch_2\">\r\n    <path d=\"M 44.845313 224.64 \r\nL 379.645313 224.64 \r\nL 379.645313 7.2 \r\nL 44.845313 7.2 \r\nz\r\n\" style=\"fill:#ffffff;\"/>\r\n   </g>\r\n   <g id=\"matplotlib.axis_1\">\r\n    <g id=\"xtick_1\">\r\n     <g id=\"line2d_1\">\r\n      <defs>\r\n       <path d=\"M 0 0 \r\nL 0 3.5 \r\n\" id=\"mb9ac10e038\" style=\"stroke:#000000;stroke-width:0.8;\"/>\r\n      </defs>\r\n      <g>\r\n       <use style=\"stroke:#000000;stroke-width:0.8;\" x=\"60.063494\" xlink:href=\"#mb9ac10e038\" y=\"224.64\"/>\r\n      </g>\r\n     </g>\r\n     <g id=\"text_1\">\r\n      <!-- −10.0 -->\r\n      <defs>\r\n       <path d=\"M 10.59375 35.5 \r\nL 73.1875 35.5 \r\nL 73.1875 27.203125 \r\nL 10.59375 27.203125 \r\nz\r\n\" id=\"DejaVuSans-8722\"/>\r\n       <path d=\"M 12.40625 8.296875 \r\nL 28.515625 8.296875 \r\nL 28.515625 63.921875 \r\nL 10.984375 60.40625 \r\nL 10.984375 69.390625 \r\nL 28.421875 72.90625 \r\nL 38.28125 72.90625 \r\nL 38.28125 8.296875 \r\nL 54.390625 8.296875 \r\nL 54.390625 0 \r\nL 12.40625 0 \r\nz\r\n\" id=\"DejaVuSans-49\"/>\r\n       <path d=\"M 31.78125 66.40625 \r\nQ 24.171875 66.40625 20.328125 58.90625 \r\nQ 16.5 51.421875 16.5 36.375 \r\nQ 16.5 21.390625 20.328125 13.890625 \r\nQ 24.171875 6.390625 31.78125 6.390625 \r\nQ 39.453125 6.390625 43.28125 13.890625 \r\nQ 47.125 21.390625 47.125 36.375 \r\nQ 47.125 51.421875 43.28125 58.90625 \r\nQ 39.453125 66.40625 31.78125 66.40625 \r\nz\r\nM 31.78125 74.21875 \r\nQ 44.046875 74.21875 50.515625 64.515625 \r\nQ 56.984375 54.828125 56.984375 36.375 \r\nQ 56.984375 17.96875 50.515625 8.265625 \r\nQ 44.046875 -1.421875 31.78125 -1.421875 \r\nQ 19.53125 -1.421875 13.0625 8.265625 \r\nQ 6.59375 17.96875 6.59375 36.375 \r\nQ 6.59375 54.828125 13.0625 64.515625 \r\nQ 19.53125 74.21875 31.78125 74.21875 \r\nz\r\n\" id=\"DejaVuSans-48\"/>\r\n       <path d=\"M 10.6875 12.40625 \r\nL 21 12.40625 \r\nL 21 0 \r\nL 10.6875 0 \r\nz\r\n\" id=\"DejaVuSans-46\"/>\r\n      </defs>\r\n      <g transform=\"translate(44.740838 239.238437)scale(0.1 -0.1)\">\r\n       <use xlink:href=\"#DejaVuSans-8722\"/>\r\n       <use x=\"83.789062\" xlink:href=\"#DejaVuSans-49\"/>\r\n       <use x=\"147.412109\" xlink:href=\"#DejaVuSans-48\"/>\r\n       <use x=\"211.035156\" xlink:href=\"#DejaVuSans-46\"/>\r\n       <use x=\"242.822266\" xlink:href=\"#DejaVuSans-48\"/>\r\n      </g>\r\n     </g>\r\n    </g>\r\n    <g id=\"xtick_2\">\r\n     <g id=\"line2d_2\">\r\n      <g>\r\n       <use style=\"stroke:#000000;stroke-width:0.8;\" x=\"98.108949\" xlink:href=\"#mb9ac10e038\" y=\"224.64\"/>\r\n      </g>\r\n     </g>\r\n     <g id=\"text_2\">\r\n      <!-- −7.5 -->\r\n      <defs>\r\n       <path d=\"M 8.203125 72.90625 \r\nL 55.078125 72.90625 \r\nL 55.078125 68.703125 \r\nL 28.609375 0 \r\nL 18.3125 0 \r\nL 43.21875 64.59375 \r\nL 8.203125 64.59375 \r\nz\r\n\" id=\"DejaVuSans-55\"/>\r\n       <path d=\"M 10.796875 72.90625 \r\nL 49.515625 72.90625 \r\nL 49.515625 64.59375 \r\nL 19.828125 64.59375 \r\nL 19.828125 46.734375 \r\nQ 21.96875 47.46875 24.109375 47.828125 \r\nQ 26.265625 48.1875 28.421875 48.1875 \r\nQ 40.625 48.1875 47.75 41.5 \r\nQ 54.890625 34.8125 54.890625 23.390625 \r\nQ 54.890625 11.625 47.5625 5.09375 \r\nQ 40.234375 -1.421875 26.90625 -1.421875 \r\nQ 22.3125 -1.421875 17.546875 -0.640625 \r\nQ 12.796875 0.140625 7.71875 1.703125 \r\nL 7.71875 11.625 \r\nQ 12.109375 9.234375 16.796875 8.0625 \r\nQ 21.484375 6.890625 26.703125 6.890625 \r\nQ 35.15625 6.890625 40.078125 11.328125 \r\nQ 45.015625 15.765625 45.015625 23.390625 \r\nQ 45.015625 31 40.078125 35.4375 \r\nQ 35.15625 39.890625 26.703125 39.890625 \r\nQ 22.75 39.890625 18.8125 39.015625 \r\nQ 14.890625 38.140625 10.796875 36.28125 \r\nz\r\n\" id=\"DejaVuSans-53\"/>\r\n      </defs>\r\n      <g transform=\"translate(85.967543 239.238437)scale(0.1 -0.1)\">\r\n       <use xlink:href=\"#DejaVuSans-8722\"/>\r\n       <use x=\"83.789062\" xlink:href=\"#DejaVuSans-55\"/>\r\n       <use x=\"147.412109\" xlink:href=\"#DejaVuSans-46\"/>\r\n       <use x=\"179.199219\" xlink:href=\"#DejaVuSans-53\"/>\r\n      </g>\r\n     </g>\r\n    </g>\r\n    <g id=\"xtick_3\">\r\n     <g id=\"line2d_3\">\r\n      <g>\r\n       <use style=\"stroke:#000000;stroke-width:0.8;\" x=\"136.154403\" xlink:href=\"#mb9ac10e038\" y=\"224.64\"/>\r\n      </g>\r\n     </g>\r\n     <g id=\"text_3\">\r\n      <!-- −5.0 -->\r\n      <g transform=\"translate(124.012997 239.238437)scale(0.1 -0.1)\">\r\n       <use xlink:href=\"#DejaVuSans-8722\"/>\r\n       <use x=\"83.789062\" xlink:href=\"#DejaVuSans-53\"/>\r\n       <use x=\"147.412109\" xlink:href=\"#DejaVuSans-46\"/>\r\n       <use x=\"179.199219\" xlink:href=\"#DejaVuSans-48\"/>\r\n      </g>\r\n     </g>\r\n    </g>\r\n    <g id=\"xtick_4\">\r\n     <g id=\"line2d_4\">\r\n      <g>\r\n       <use style=\"stroke:#000000;stroke-width:0.8;\" x=\"174.199858\" xlink:href=\"#mb9ac10e038\" y=\"224.64\"/>\r\n      </g>\r\n     </g>\r\n     <g id=\"text_4\">\r\n      <!-- −2.5 -->\r\n      <defs>\r\n       <path d=\"M 19.1875 8.296875 \r\nL 53.609375 8.296875 \r\nL 53.609375 0 \r\nL 7.328125 0 \r\nL 7.328125 8.296875 \r\nQ 12.9375 14.109375 22.625 23.890625 \r\nQ 32.328125 33.6875 34.8125 36.53125 \r\nQ 39.546875 41.84375 41.421875 45.53125 \r\nQ 43.3125 49.21875 43.3125 52.78125 \r\nQ 43.3125 58.59375 39.234375 62.25 \r\nQ 35.15625 65.921875 28.609375 65.921875 \r\nQ 23.96875 65.921875 18.8125 64.3125 \r\nQ 13.671875 62.703125 7.8125 59.421875 \r\nL 7.8125 69.390625 \r\nQ 13.765625 71.78125 18.9375 73 \r\nQ 24.125 74.21875 28.421875 74.21875 \r\nQ 39.75 74.21875 46.484375 68.546875 \r\nQ 53.21875 62.890625 53.21875 53.421875 \r\nQ 53.21875 48.921875 51.53125 44.890625 \r\nQ 49.859375 40.875 45.40625 35.40625 \r\nQ 44.1875 33.984375 37.640625 27.21875 \r\nQ 31.109375 20.453125 19.1875 8.296875 \r\nz\r\n\" id=\"DejaVuSans-50\"/>\r\n      </defs>\r\n      <g transform=\"translate(162.058452 239.238437)scale(0.1 -0.1)\">\r\n       <use xlink:href=\"#DejaVuSans-8722\"/>\r\n       <use x=\"83.789062\" xlink:href=\"#DejaVuSans-50\"/>\r\n       <use x=\"147.412109\" xlink:href=\"#DejaVuSans-46\"/>\r\n       <use x=\"179.199219\" xlink:href=\"#DejaVuSans-53\"/>\r\n      </g>\r\n     </g>\r\n    </g>\r\n    <g id=\"xtick_5\">\r\n     <g id=\"line2d_5\">\r\n      <g>\r\n       <use style=\"stroke:#000000;stroke-width:0.8;\" x=\"212.245313\" xlink:href=\"#mb9ac10e038\" y=\"224.64\"/>\r\n      </g>\r\n     </g>\r\n     <g id=\"text_5\">\r\n      <!-- 0.0 -->\r\n      <g transform=\"translate(204.29375 239.238437)scale(0.1 -0.1)\">\r\n       <use xlink:href=\"#DejaVuSans-48\"/>\r\n       <use x=\"63.623047\" xlink:href=\"#DejaVuSans-46\"/>\r\n       <use x=\"95.410156\" xlink:href=\"#DejaVuSans-48\"/>\r\n      </g>\r\n     </g>\r\n    </g>\r\n    <g id=\"xtick_6\">\r\n     <g id=\"line2d_6\">\r\n      <g>\r\n       <use style=\"stroke:#000000;stroke-width:0.8;\" x=\"250.290767\" xlink:href=\"#mb9ac10e038\" y=\"224.64\"/>\r\n      </g>\r\n     </g>\r\n     <g id=\"text_6\">\r\n      <!-- 2.5 -->\r\n      <g transform=\"translate(242.339205 239.238437)scale(0.1 -0.1)\">\r\n       <use xlink:href=\"#DejaVuSans-50\"/>\r\n       <use x=\"63.623047\" xlink:href=\"#DejaVuSans-46\"/>\r\n       <use x=\"95.410156\" xlink:href=\"#DejaVuSans-53\"/>\r\n      </g>\r\n     </g>\r\n    </g>\r\n    <g id=\"xtick_7\">\r\n     <g id=\"line2d_7\">\r\n      <g>\r\n       <use style=\"stroke:#000000;stroke-width:0.8;\" x=\"288.336222\" xlink:href=\"#mb9ac10e038\" y=\"224.64\"/>\r\n      </g>\r\n     </g>\r\n     <g id=\"text_7\">\r\n      <!-- 5.0 -->\r\n      <g transform=\"translate(280.384659 239.238437)scale(0.1 -0.1)\">\r\n       <use xlink:href=\"#DejaVuSans-53\"/>\r\n       <use x=\"63.623047\" xlink:href=\"#DejaVuSans-46\"/>\r\n       <use x=\"95.410156\" xlink:href=\"#DejaVuSans-48\"/>\r\n      </g>\r\n     </g>\r\n    </g>\r\n    <g id=\"xtick_8\">\r\n     <g id=\"line2d_8\">\r\n      <g>\r\n       <use style=\"stroke:#000000;stroke-width:0.8;\" x=\"326.381676\" xlink:href=\"#mb9ac10e038\" y=\"224.64\"/>\r\n      </g>\r\n     </g>\r\n     <g id=\"text_8\">\r\n      <!-- 7.5 -->\r\n      <g transform=\"translate(318.430114 239.238437)scale(0.1 -0.1)\">\r\n       <use xlink:href=\"#DejaVuSans-55\"/>\r\n       <use x=\"63.623047\" xlink:href=\"#DejaVuSans-46\"/>\r\n       <use x=\"95.410156\" xlink:href=\"#DejaVuSans-53\"/>\r\n      </g>\r\n     </g>\r\n    </g>\r\n    <g id=\"xtick_9\">\r\n     <g id=\"line2d_9\">\r\n      <g>\r\n       <use style=\"stroke:#000000;stroke-width:0.8;\" x=\"364.427131\" xlink:href=\"#mb9ac10e038\" y=\"224.64\"/>\r\n      </g>\r\n     </g>\r\n     <g id=\"text_9\">\r\n      <!-- 10.0 -->\r\n      <g transform=\"translate(353.294318 239.238437)scale(0.1 -0.1)\">\r\n       <use xlink:href=\"#DejaVuSans-49\"/>\r\n       <use x=\"63.623047\" xlink:href=\"#DejaVuSans-48\"/>\r\n       <use x=\"127.246094\" xlink:href=\"#DejaVuSans-46\"/>\r\n       <use x=\"159.033203\" xlink:href=\"#DejaVuSans-48\"/>\r\n      </g>\r\n     </g>\r\n    </g>\r\n   </g>\r\n   <g id=\"matplotlib.axis_2\">\r\n    <g id=\"ytick_1\">\r\n     <g id=\"line2d_10\">\r\n      <defs>\r\n       <path d=\"M 0 0 \r\nL -3.5 0 \r\n\" id=\"m32610bbe61\" style=\"stroke:#000000;stroke-width:0.8;\"/>\r\n      </defs>\r\n      <g>\r\n       <use style=\"stroke:#000000;stroke-width:0.8;\" x=\"44.845313\" xlink:href=\"#m32610bbe61\" y=\"214.817229\"/>\r\n      </g>\r\n     </g>\r\n     <g id=\"text_10\">\r\n      <!-- −1.00 -->\r\n      <g transform=\"translate(7.2 218.616448)scale(0.1 -0.1)\">\r\n       <use xlink:href=\"#DejaVuSans-8722\"/>\r\n       <use x=\"83.789062\" xlink:href=\"#DejaVuSans-49\"/>\r\n       <use x=\"147.412109\" xlink:href=\"#DejaVuSans-46\"/>\r\n       <use x=\"179.199219\" xlink:href=\"#DejaVuSans-48\"/>\r\n       <use x=\"242.822266\" xlink:href=\"#DejaVuSans-48\"/>\r\n      </g>\r\n     </g>\r\n    </g>\r\n    <g id=\"ytick_2\">\r\n     <g id=\"line2d_11\">\r\n      <g>\r\n       <use style=\"stroke:#000000;stroke-width:0.8;\" x=\"44.845313\" xlink:href=\"#m32610bbe61\" y=\"190.092922\"/>\r\n      </g>\r\n     </g>\r\n     <g id=\"text_11\">\r\n      <!-- −0.75 -->\r\n      <g transform=\"translate(7.2 193.892141)scale(0.1 -0.1)\">\r\n       <use xlink:href=\"#DejaVuSans-8722\"/>\r\n       <use x=\"83.789062\" xlink:href=\"#DejaVuSans-48\"/>\r\n       <use x=\"147.412109\" xlink:href=\"#DejaVuSans-46\"/>\r\n       <use x=\"179.199219\" xlink:href=\"#DejaVuSans-55\"/>\r\n       <use x=\"242.822266\" xlink:href=\"#DejaVuSans-53\"/>\r\n      </g>\r\n     </g>\r\n    </g>\r\n    <g id=\"ytick_3\">\r\n     <g id=\"line2d_12\">\r\n      <g>\r\n       <use style=\"stroke:#000000;stroke-width:0.8;\" x=\"44.845313\" xlink:href=\"#m32610bbe61\" y=\"165.368615\"/>\r\n      </g>\r\n     </g>\r\n     <g id=\"text_12\">\r\n      <!-- −0.50 -->\r\n      <g transform=\"translate(7.2 169.167833)scale(0.1 -0.1)\">\r\n       <use xlink:href=\"#DejaVuSans-8722\"/>\r\n       <use x=\"83.789062\" xlink:href=\"#DejaVuSans-48\"/>\r\n       <use x=\"147.412109\" xlink:href=\"#DejaVuSans-46\"/>\r\n       <use x=\"179.199219\" xlink:href=\"#DejaVuSans-53\"/>\r\n       <use x=\"242.822266\" xlink:href=\"#DejaVuSans-48\"/>\r\n      </g>\r\n     </g>\r\n    </g>\r\n    <g id=\"ytick_4\">\r\n     <g id=\"line2d_13\">\r\n      <g>\r\n       <use style=\"stroke:#000000;stroke-width:0.8;\" x=\"44.845313\" xlink:href=\"#m32610bbe61\" y=\"140.644307\"/>\r\n      </g>\r\n     </g>\r\n     <g id=\"text_13\">\r\n      <!-- −0.25 -->\r\n      <g transform=\"translate(7.2 144.443526)scale(0.1 -0.1)\">\r\n       <use xlink:href=\"#DejaVuSans-8722\"/>\r\n       <use x=\"83.789062\" xlink:href=\"#DejaVuSans-48\"/>\r\n       <use x=\"147.412109\" xlink:href=\"#DejaVuSans-46\"/>\r\n       <use x=\"179.199219\" xlink:href=\"#DejaVuSans-50\"/>\r\n       <use x=\"242.822266\" xlink:href=\"#DejaVuSans-53\"/>\r\n      </g>\r\n     </g>\r\n    </g>\r\n    <g id=\"ytick_5\">\r\n     <g id=\"line2d_14\">\r\n      <g>\r\n       <use style=\"stroke:#000000;stroke-width:0.8;\" x=\"44.845313\" xlink:href=\"#m32610bbe61\" y=\"115.92\"/>\r\n      </g>\r\n     </g>\r\n     <g id=\"text_14\">\r\n      <!-- 0.00 -->\r\n      <g transform=\"translate(15.579688 119.719219)scale(0.1 -0.1)\">\r\n       <use xlink:href=\"#DejaVuSans-48\"/>\r\n       <use x=\"63.623047\" xlink:href=\"#DejaVuSans-46\"/>\r\n       <use x=\"95.410156\" xlink:href=\"#DejaVuSans-48\"/>\r\n       <use x=\"159.033203\" xlink:href=\"#DejaVuSans-48\"/>\r\n      </g>\r\n     </g>\r\n    </g>\r\n    <g id=\"ytick_6\">\r\n     <g id=\"line2d_15\">\r\n      <g>\r\n       <use style=\"stroke:#000000;stroke-width:0.8;\" x=\"44.845313\" xlink:href=\"#m32610bbe61\" y=\"91.195693\"/>\r\n      </g>\r\n     </g>\r\n     <g id=\"text_15\">\r\n      <!-- 0.25 -->\r\n      <g transform=\"translate(15.579688 94.994911)scale(0.1 -0.1)\">\r\n       <use xlink:href=\"#DejaVuSans-48\"/>\r\n       <use x=\"63.623047\" xlink:href=\"#DejaVuSans-46\"/>\r\n       <use x=\"95.410156\" xlink:href=\"#DejaVuSans-50\"/>\r\n       <use x=\"159.033203\" xlink:href=\"#DejaVuSans-53\"/>\r\n      </g>\r\n     </g>\r\n    </g>\r\n    <g id=\"ytick_7\">\r\n     <g id=\"line2d_16\">\r\n      <g>\r\n       <use style=\"stroke:#000000;stroke-width:0.8;\" x=\"44.845313\" xlink:href=\"#m32610bbe61\" y=\"66.471385\"/>\r\n      </g>\r\n     </g>\r\n     <g id=\"text_16\">\r\n      <!-- 0.50 -->\r\n      <g transform=\"translate(15.579688 70.270604)scale(0.1 -0.1)\">\r\n       <use xlink:href=\"#DejaVuSans-48\"/>\r\n       <use x=\"63.623047\" xlink:href=\"#DejaVuSans-46\"/>\r\n       <use x=\"95.410156\" xlink:href=\"#DejaVuSans-53\"/>\r\n       <use x=\"159.033203\" xlink:href=\"#DejaVuSans-48\"/>\r\n      </g>\r\n     </g>\r\n    </g>\r\n    <g id=\"ytick_8\">\r\n     <g id=\"line2d_17\">\r\n      <g>\r\n       <use style=\"stroke:#000000;stroke-width:0.8;\" x=\"44.845313\" xlink:href=\"#m32610bbe61\" y=\"41.747078\"/>\r\n      </g>\r\n     </g>\r\n     <g id=\"text_17\">\r\n      <!-- 0.75 -->\r\n      <g transform=\"translate(15.579688 45.546297)scale(0.1 -0.1)\">\r\n       <use xlink:href=\"#DejaVuSans-48\"/>\r\n       <use x=\"63.623047\" xlink:href=\"#DejaVuSans-46\"/>\r\n       <use x=\"95.410156\" xlink:href=\"#DejaVuSans-55\"/>\r\n       <use x=\"159.033203\" xlink:href=\"#DejaVuSans-53\"/>\r\n      </g>\r\n     </g>\r\n    </g>\r\n    <g id=\"ytick_9\">\r\n     <g id=\"line2d_18\">\r\n      <g>\r\n       <use style=\"stroke:#000000;stroke-width:0.8;\" x=\"44.845313\" xlink:href=\"#m32610bbe61\" y=\"17.022771\"/>\r\n      </g>\r\n     </g>\r\n     <g id=\"text_18\">\r\n      <!-- 1.00 -->\r\n      <g transform=\"translate(15.579688 20.82199)scale(0.1 -0.1)\">\r\n       <use xlink:href=\"#DejaVuSans-49\"/>\r\n       <use x=\"63.623047\" xlink:href=\"#DejaVuSans-46\"/>\r\n       <use x=\"95.410156\" xlink:href=\"#DejaVuSans-48\"/>\r\n       <use x=\"159.033203\" xlink:href=\"#DejaVuSans-48\"/>\r\n      </g>\r\n     </g>\r\n    </g>\r\n   </g>\r\n   <g id=\"line2d_19\">\r\n    <path clip-path=\"url(#pd3a2077160)\" d=\"M 60.063494 62.11782 \r\nL 63.137874 79.862195 \r\nL 66.212255 99.07317 \r\nL 69.286635 118.969365 \r\nL 72.361015 138.741532 \r\nL 75.435395 157.585466 \r\nL 78.509775 174.734718 \r\nL 81.584155 189.491766 \r\nL 84.658536 201.25639 \r\nL 87.732916 209.55008 \r\nL 90.807296 214.035502 \r\nL 93.881676 214.530219 \r\nL 96.956056 211.014108 \r\nL 100.030436 203.630183 \r\nL 103.104817 192.678773 \r\nL 106.179197 178.605311 \r\nL 109.253577 161.982216 \r\nL 112.327957 143.485607 \r\nL 115.402337 123.867807 \r\nL 118.476717 103.926741 \r\nL 121.551098 84.473484 \r\nL 124.625478 66.299268 \r\nL 127.699858 50.143303 \r\nL 130.774238 36.66271 \r\nL 133.848618 26.405792 \r\nL 136.922998 19.789735 \r\nL 139.997379 17.083636 \r\nL 143.071759 18.397564 \r\nL 146.146139 23.678074 \r\nL 149.220519 32.710391 \r\nL 152.294899 45.127138 \r\nL 155.369279 60.423282 \r\nL 158.44366 77.976674 \r\nL 161.51804 97.073357 \r\nL 164.59242 116.936598 \r\nL 167.6668 136.758492 \r\nL 170.74118 155.732809 \r\nL 173.81556 173.087799 \r\nL 176.889941 188.117571 \r\nL 179.964321 200.210812 \r\nL 183.038701 208.875647 \r\nL 186.113081 213.759646 \r\nL 189.187461 214.664159 \r\nL 192.261841 211.552397 \r\nL 195.336222 204.550925 \r\nL 198.410602 193.94452 \r\nL 201.484982 180.164581 \r\nL 204.559362 163.771587 \r\nL 207.633742 145.432298 \r\nL 210.708122 125.89264 \r\nL 213.782503 105.94736 \r\nL 216.856883 86.407702 \r\nL 219.931263 68.068413 \r\nL 223.005643 51.675419 \r\nL 226.080023 37.89548 \r\nL 229.154403 27.289075 \r\nL 232.228784 20.287603 \r\nL 235.303164 17.175841 \r\nL 238.377544 18.080354 \r\nL 241.451924 22.964353 \r\nL 244.526304 31.629188 \r\nL 247.600684 43.722429 \r\nL 250.675065 58.752201 \r\nL 253.749445 76.107191 \r\nL 256.823825 95.081508 \r\nL 259.898205 114.903402 \r\nL 262.972585 134.766643 \r\nL 266.046965 153.863326 \r\nL 269.121346 171.416718 \r\nL 272.195726 186.712862 \r\nL 275.270106 199.129609 \r\nL 278.344486 208.161926 \r\nL 281.418866 213.442436 \r\nL 284.493246 214.756364 \r\nL 287.567627 212.050265 \r\nL 290.642007 205.434208 \r\nL 293.716387 195.17729 \r\nL 296.790767 181.696697 \r\nL 299.865147 165.540732 \r\nL 302.939527 147.366516 \r\nL 306.013908 127.913259 \r\nL 309.088288 107.972193 \r\nL 312.162668 88.354393 \r\nL 315.237048 69.857784 \r\nL 318.311428 53.234689 \r\nL 321.385808 39.161227 \r\nL 324.460189 28.209817 \r\nL 327.534569 20.825892 \r\nL 330.608949 17.309781 \r\nL 333.683329 17.804498 \r\nL 336.757709 22.28992 \r\nL 339.832089 30.58361 \r\nL 342.90647 42.348234 \r\nL 345.98085 57.105282 \r\nL 349.05523 74.254534 \r\nL 352.12961 93.098468 \r\nL 355.20399 112.870635 \r\nL 358.27837 132.76683 \r\nL 361.352751 151.977805 \r\nL 364.427131 169.72218 \r\n\" style=\"fill:none;stroke:#1f77b4;stroke-linecap:square;stroke-width:1.5;\"/>\r\n    <defs>\r\n     <path d=\"M -3 3 \r\nL 3 -3 \r\nM -3 -3 \r\nL 3 3 \r\n\" id=\"m1b5806d4be\" style=\"stroke:#1f77b4;\"/>\r\n    </defs>\r\n    <g clip-path=\"url(#pd3a2077160)\">\r\n     <use style=\"fill:#1f77b4;stroke:#1f77b4;\" x=\"60.063494\" xlink:href=\"#m1b5806d4be\" y=\"62.11782\"/>\r\n     <use style=\"fill:#1f77b4;stroke:#1f77b4;\" x=\"63.137874\" xlink:href=\"#m1b5806d4be\" y=\"79.862195\"/>\r\n     <use style=\"fill:#1f77b4;stroke:#1f77b4;\" x=\"66.212255\" xlink:href=\"#m1b5806d4be\" y=\"99.07317\"/>\r\n     <use style=\"fill:#1f77b4;stroke:#1f77b4;\" x=\"69.286635\" xlink:href=\"#m1b5806d4be\" y=\"118.969365\"/>\r\n     <use style=\"fill:#1f77b4;stroke:#1f77b4;\" x=\"72.361015\" xlink:href=\"#m1b5806d4be\" y=\"138.741532\"/>\r\n     <use style=\"fill:#1f77b4;stroke:#1f77b4;\" x=\"75.435395\" xlink:href=\"#m1b5806d4be\" y=\"157.585466\"/>\r\n     <use style=\"fill:#1f77b4;stroke:#1f77b4;\" x=\"78.509775\" xlink:href=\"#m1b5806d4be\" y=\"174.734718\"/>\r\n     <use style=\"fill:#1f77b4;stroke:#1f77b4;\" x=\"81.584155\" xlink:href=\"#m1b5806d4be\" y=\"189.491766\"/>\r\n     <use style=\"fill:#1f77b4;stroke:#1f77b4;\" x=\"84.658536\" xlink:href=\"#m1b5806d4be\" y=\"201.25639\"/>\r\n     <use style=\"fill:#1f77b4;stroke:#1f77b4;\" x=\"87.732916\" xlink:href=\"#m1b5806d4be\" y=\"209.55008\"/>\r\n     <use style=\"fill:#1f77b4;stroke:#1f77b4;\" x=\"90.807296\" xlink:href=\"#m1b5806d4be\" y=\"214.035502\"/>\r\n     <use style=\"fill:#1f77b4;stroke:#1f77b4;\" x=\"93.881676\" xlink:href=\"#m1b5806d4be\" y=\"214.530219\"/>\r\n     <use style=\"fill:#1f77b4;stroke:#1f77b4;\" x=\"96.956056\" xlink:href=\"#m1b5806d4be\" y=\"211.014108\"/>\r\n     <use style=\"fill:#1f77b4;stroke:#1f77b4;\" x=\"100.030436\" xlink:href=\"#m1b5806d4be\" y=\"203.630183\"/>\r\n     <use style=\"fill:#1f77b4;stroke:#1f77b4;\" x=\"103.104817\" xlink:href=\"#m1b5806d4be\" y=\"192.678773\"/>\r\n     <use style=\"fill:#1f77b4;stroke:#1f77b4;\" x=\"106.179197\" xlink:href=\"#m1b5806d4be\" y=\"178.605311\"/>\r\n     <use style=\"fill:#1f77b4;stroke:#1f77b4;\" x=\"109.253577\" xlink:href=\"#m1b5806d4be\" y=\"161.982216\"/>\r\n     <use style=\"fill:#1f77b4;stroke:#1f77b4;\" x=\"112.327957\" xlink:href=\"#m1b5806d4be\" y=\"143.485607\"/>\r\n     <use style=\"fill:#1f77b4;stroke:#1f77b4;\" x=\"115.402337\" xlink:href=\"#m1b5806d4be\" y=\"123.867807\"/>\r\n     <use style=\"fill:#1f77b4;stroke:#1f77b4;\" x=\"118.476717\" xlink:href=\"#m1b5806d4be\" y=\"103.926741\"/>\r\n     <use style=\"fill:#1f77b4;stroke:#1f77b4;\" x=\"121.551098\" xlink:href=\"#m1b5806d4be\" y=\"84.473484\"/>\r\n     <use style=\"fill:#1f77b4;stroke:#1f77b4;\" x=\"124.625478\" xlink:href=\"#m1b5806d4be\" y=\"66.299268\"/>\r\n     <use style=\"fill:#1f77b4;stroke:#1f77b4;\" x=\"127.699858\" xlink:href=\"#m1b5806d4be\" y=\"50.143303\"/>\r\n     <use style=\"fill:#1f77b4;stroke:#1f77b4;\" x=\"130.774238\" xlink:href=\"#m1b5806d4be\" y=\"36.66271\"/>\r\n     <use style=\"fill:#1f77b4;stroke:#1f77b4;\" x=\"133.848618\" xlink:href=\"#m1b5806d4be\" y=\"26.405792\"/>\r\n     <use style=\"fill:#1f77b4;stroke:#1f77b4;\" x=\"136.922998\" xlink:href=\"#m1b5806d4be\" y=\"19.789735\"/>\r\n     <use style=\"fill:#1f77b4;stroke:#1f77b4;\" x=\"139.997379\" xlink:href=\"#m1b5806d4be\" y=\"17.083636\"/>\r\n     <use style=\"fill:#1f77b4;stroke:#1f77b4;\" x=\"143.071759\" xlink:href=\"#m1b5806d4be\" y=\"18.397564\"/>\r\n     <use style=\"fill:#1f77b4;stroke:#1f77b4;\" x=\"146.146139\" xlink:href=\"#m1b5806d4be\" y=\"23.678074\"/>\r\n     <use style=\"fill:#1f77b4;stroke:#1f77b4;\" x=\"149.220519\" xlink:href=\"#m1b5806d4be\" y=\"32.710391\"/>\r\n     <use style=\"fill:#1f77b4;stroke:#1f77b4;\" x=\"152.294899\" xlink:href=\"#m1b5806d4be\" y=\"45.127138\"/>\r\n     <use style=\"fill:#1f77b4;stroke:#1f77b4;\" x=\"155.369279\" xlink:href=\"#m1b5806d4be\" y=\"60.423282\"/>\r\n     <use style=\"fill:#1f77b4;stroke:#1f77b4;\" x=\"158.44366\" xlink:href=\"#m1b5806d4be\" y=\"77.976674\"/>\r\n     <use style=\"fill:#1f77b4;stroke:#1f77b4;\" x=\"161.51804\" xlink:href=\"#m1b5806d4be\" y=\"97.073357\"/>\r\n     <use style=\"fill:#1f77b4;stroke:#1f77b4;\" x=\"164.59242\" xlink:href=\"#m1b5806d4be\" y=\"116.936598\"/>\r\n     <use style=\"fill:#1f77b4;stroke:#1f77b4;\" x=\"167.6668\" xlink:href=\"#m1b5806d4be\" y=\"136.758492\"/>\r\n     <use style=\"fill:#1f77b4;stroke:#1f77b4;\" x=\"170.74118\" xlink:href=\"#m1b5806d4be\" y=\"155.732809\"/>\r\n     <use style=\"fill:#1f77b4;stroke:#1f77b4;\" x=\"173.81556\" xlink:href=\"#m1b5806d4be\" y=\"173.087799\"/>\r\n     <use style=\"fill:#1f77b4;stroke:#1f77b4;\" x=\"176.889941\" xlink:href=\"#m1b5806d4be\" y=\"188.117571\"/>\r\n     <use style=\"fill:#1f77b4;stroke:#1f77b4;\" x=\"179.964321\" xlink:href=\"#m1b5806d4be\" y=\"200.210812\"/>\r\n     <use style=\"fill:#1f77b4;stroke:#1f77b4;\" x=\"183.038701\" xlink:href=\"#m1b5806d4be\" y=\"208.875647\"/>\r\n     <use style=\"fill:#1f77b4;stroke:#1f77b4;\" x=\"186.113081\" xlink:href=\"#m1b5806d4be\" y=\"213.759646\"/>\r\n     <use style=\"fill:#1f77b4;stroke:#1f77b4;\" x=\"189.187461\" xlink:href=\"#m1b5806d4be\" y=\"214.664159\"/>\r\n     <use style=\"fill:#1f77b4;stroke:#1f77b4;\" x=\"192.261841\" xlink:href=\"#m1b5806d4be\" y=\"211.552397\"/>\r\n     <use style=\"fill:#1f77b4;stroke:#1f77b4;\" x=\"195.336222\" xlink:href=\"#m1b5806d4be\" y=\"204.550925\"/>\r\n     <use style=\"fill:#1f77b4;stroke:#1f77b4;\" x=\"198.410602\" xlink:href=\"#m1b5806d4be\" y=\"193.94452\"/>\r\n     <use style=\"fill:#1f77b4;stroke:#1f77b4;\" x=\"201.484982\" xlink:href=\"#m1b5806d4be\" y=\"180.164581\"/>\r\n     <use style=\"fill:#1f77b4;stroke:#1f77b4;\" x=\"204.559362\" xlink:href=\"#m1b5806d4be\" y=\"163.771587\"/>\r\n     <use style=\"fill:#1f77b4;stroke:#1f77b4;\" x=\"207.633742\" xlink:href=\"#m1b5806d4be\" y=\"145.432298\"/>\r\n     <use style=\"fill:#1f77b4;stroke:#1f77b4;\" x=\"210.708122\" xlink:href=\"#m1b5806d4be\" y=\"125.89264\"/>\r\n     <use style=\"fill:#1f77b4;stroke:#1f77b4;\" x=\"213.782503\" xlink:href=\"#m1b5806d4be\" y=\"105.94736\"/>\r\n     <use style=\"fill:#1f77b4;stroke:#1f77b4;\" x=\"216.856883\" xlink:href=\"#m1b5806d4be\" y=\"86.407702\"/>\r\n     <use style=\"fill:#1f77b4;stroke:#1f77b4;\" x=\"219.931263\" xlink:href=\"#m1b5806d4be\" y=\"68.068413\"/>\r\n     <use style=\"fill:#1f77b4;stroke:#1f77b4;\" x=\"223.005643\" xlink:href=\"#m1b5806d4be\" y=\"51.675419\"/>\r\n     <use style=\"fill:#1f77b4;stroke:#1f77b4;\" x=\"226.080023\" xlink:href=\"#m1b5806d4be\" y=\"37.89548\"/>\r\n     <use style=\"fill:#1f77b4;stroke:#1f77b4;\" x=\"229.154403\" xlink:href=\"#m1b5806d4be\" y=\"27.289075\"/>\r\n     <use style=\"fill:#1f77b4;stroke:#1f77b4;\" x=\"232.228784\" xlink:href=\"#m1b5806d4be\" y=\"20.287603\"/>\r\n     <use style=\"fill:#1f77b4;stroke:#1f77b4;\" x=\"235.303164\" xlink:href=\"#m1b5806d4be\" y=\"17.175841\"/>\r\n     <use style=\"fill:#1f77b4;stroke:#1f77b4;\" x=\"238.377544\" xlink:href=\"#m1b5806d4be\" y=\"18.080354\"/>\r\n     <use style=\"fill:#1f77b4;stroke:#1f77b4;\" x=\"241.451924\" xlink:href=\"#m1b5806d4be\" y=\"22.964353\"/>\r\n     <use style=\"fill:#1f77b4;stroke:#1f77b4;\" x=\"244.526304\" xlink:href=\"#m1b5806d4be\" y=\"31.629188\"/>\r\n     <use style=\"fill:#1f77b4;stroke:#1f77b4;\" x=\"247.600684\" xlink:href=\"#m1b5806d4be\" y=\"43.722429\"/>\r\n     <use style=\"fill:#1f77b4;stroke:#1f77b4;\" x=\"250.675065\" xlink:href=\"#m1b5806d4be\" y=\"58.752201\"/>\r\n     <use style=\"fill:#1f77b4;stroke:#1f77b4;\" x=\"253.749445\" xlink:href=\"#m1b5806d4be\" y=\"76.107191\"/>\r\n     <use style=\"fill:#1f77b4;stroke:#1f77b4;\" x=\"256.823825\" xlink:href=\"#m1b5806d4be\" y=\"95.081508\"/>\r\n     <use style=\"fill:#1f77b4;stroke:#1f77b4;\" x=\"259.898205\" xlink:href=\"#m1b5806d4be\" y=\"114.903402\"/>\r\n     <use style=\"fill:#1f77b4;stroke:#1f77b4;\" x=\"262.972585\" xlink:href=\"#m1b5806d4be\" y=\"134.766643\"/>\r\n     <use style=\"fill:#1f77b4;stroke:#1f77b4;\" x=\"266.046965\" xlink:href=\"#m1b5806d4be\" y=\"153.863326\"/>\r\n     <use style=\"fill:#1f77b4;stroke:#1f77b4;\" x=\"269.121346\" xlink:href=\"#m1b5806d4be\" y=\"171.416718\"/>\r\n     <use style=\"fill:#1f77b4;stroke:#1f77b4;\" x=\"272.195726\" xlink:href=\"#m1b5806d4be\" y=\"186.712862\"/>\r\n     <use style=\"fill:#1f77b4;stroke:#1f77b4;\" x=\"275.270106\" xlink:href=\"#m1b5806d4be\" y=\"199.129609\"/>\r\n     <use style=\"fill:#1f77b4;stroke:#1f77b4;\" x=\"278.344486\" xlink:href=\"#m1b5806d4be\" y=\"208.161926\"/>\r\n     <use style=\"fill:#1f77b4;stroke:#1f77b4;\" x=\"281.418866\" xlink:href=\"#m1b5806d4be\" y=\"213.442436\"/>\r\n     <use style=\"fill:#1f77b4;stroke:#1f77b4;\" x=\"284.493246\" xlink:href=\"#m1b5806d4be\" y=\"214.756364\"/>\r\n     <use style=\"fill:#1f77b4;stroke:#1f77b4;\" x=\"287.567627\" xlink:href=\"#m1b5806d4be\" y=\"212.050265\"/>\r\n     <use style=\"fill:#1f77b4;stroke:#1f77b4;\" x=\"290.642007\" xlink:href=\"#m1b5806d4be\" y=\"205.434208\"/>\r\n     <use style=\"fill:#1f77b4;stroke:#1f77b4;\" x=\"293.716387\" xlink:href=\"#m1b5806d4be\" y=\"195.17729\"/>\r\n     <use style=\"fill:#1f77b4;stroke:#1f77b4;\" x=\"296.790767\" xlink:href=\"#m1b5806d4be\" y=\"181.696697\"/>\r\n     <use style=\"fill:#1f77b4;stroke:#1f77b4;\" x=\"299.865147\" xlink:href=\"#m1b5806d4be\" y=\"165.540732\"/>\r\n     <use style=\"fill:#1f77b4;stroke:#1f77b4;\" x=\"302.939527\" xlink:href=\"#m1b5806d4be\" y=\"147.366516\"/>\r\n     <use style=\"fill:#1f77b4;stroke:#1f77b4;\" x=\"306.013908\" xlink:href=\"#m1b5806d4be\" y=\"127.913259\"/>\r\n     <use style=\"fill:#1f77b4;stroke:#1f77b4;\" x=\"309.088288\" xlink:href=\"#m1b5806d4be\" y=\"107.972193\"/>\r\n     <use style=\"fill:#1f77b4;stroke:#1f77b4;\" x=\"312.162668\" xlink:href=\"#m1b5806d4be\" y=\"88.354393\"/>\r\n     <use style=\"fill:#1f77b4;stroke:#1f77b4;\" x=\"315.237048\" xlink:href=\"#m1b5806d4be\" y=\"69.857784\"/>\r\n     <use style=\"fill:#1f77b4;stroke:#1f77b4;\" x=\"318.311428\" xlink:href=\"#m1b5806d4be\" y=\"53.234689\"/>\r\n     <use style=\"fill:#1f77b4;stroke:#1f77b4;\" x=\"321.385808\" xlink:href=\"#m1b5806d4be\" y=\"39.161227\"/>\r\n     <use style=\"fill:#1f77b4;stroke:#1f77b4;\" x=\"324.460189\" xlink:href=\"#m1b5806d4be\" y=\"28.209817\"/>\r\n     <use style=\"fill:#1f77b4;stroke:#1f77b4;\" x=\"327.534569\" xlink:href=\"#m1b5806d4be\" y=\"20.825892\"/>\r\n     <use style=\"fill:#1f77b4;stroke:#1f77b4;\" x=\"330.608949\" xlink:href=\"#m1b5806d4be\" y=\"17.309781\"/>\r\n     <use style=\"fill:#1f77b4;stroke:#1f77b4;\" x=\"333.683329\" xlink:href=\"#m1b5806d4be\" y=\"17.804498\"/>\r\n     <use style=\"fill:#1f77b4;stroke:#1f77b4;\" x=\"336.757709\" xlink:href=\"#m1b5806d4be\" y=\"22.28992\"/>\r\n     <use style=\"fill:#1f77b4;stroke:#1f77b4;\" x=\"339.832089\" xlink:href=\"#m1b5806d4be\" y=\"30.58361\"/>\r\n     <use style=\"fill:#1f77b4;stroke:#1f77b4;\" x=\"342.90647\" xlink:href=\"#m1b5806d4be\" y=\"42.348234\"/>\r\n     <use style=\"fill:#1f77b4;stroke:#1f77b4;\" x=\"345.98085\" xlink:href=\"#m1b5806d4be\" y=\"57.105282\"/>\r\n     <use style=\"fill:#1f77b4;stroke:#1f77b4;\" x=\"349.05523\" xlink:href=\"#m1b5806d4be\" y=\"74.254534\"/>\r\n     <use style=\"fill:#1f77b4;stroke:#1f77b4;\" x=\"352.12961\" xlink:href=\"#m1b5806d4be\" y=\"93.098468\"/>\r\n     <use style=\"fill:#1f77b4;stroke:#1f77b4;\" x=\"355.20399\" xlink:href=\"#m1b5806d4be\" y=\"112.870635\"/>\r\n     <use style=\"fill:#1f77b4;stroke:#1f77b4;\" x=\"358.27837\" xlink:href=\"#m1b5806d4be\" y=\"132.76683\"/>\r\n     <use style=\"fill:#1f77b4;stroke:#1f77b4;\" x=\"361.352751\" xlink:href=\"#m1b5806d4be\" y=\"151.977805\"/>\r\n     <use style=\"fill:#1f77b4;stroke:#1f77b4;\" x=\"364.427131\" xlink:href=\"#m1b5806d4be\" y=\"169.72218\"/>\r\n    </g>\r\n   </g>\r\n   <g id=\"patch_3\">\r\n    <path d=\"M 44.845313 224.64 \r\nL 44.845313 7.2 \r\n\" style=\"fill:none;stroke:#000000;stroke-linecap:square;stroke-linejoin:miter;stroke-width:0.8;\"/>\r\n   </g>\r\n   <g id=\"patch_4\">\r\n    <path d=\"M 379.645313 224.64 \r\nL 379.645313 7.2 \r\n\" style=\"fill:none;stroke:#000000;stroke-linecap:square;stroke-linejoin:miter;stroke-width:0.8;\"/>\r\n   </g>\r\n   <g id=\"patch_5\">\r\n    <path d=\"M 44.845313 224.64 \r\nL 379.645313 224.64 \r\n\" style=\"fill:none;stroke:#000000;stroke-linecap:square;stroke-linejoin:miter;stroke-width:0.8;\"/>\r\n   </g>\r\n   <g id=\"patch_6\">\r\n    <path d=\"M 44.845313 7.2 \r\nL 379.645313 7.2 \r\n\" style=\"fill:none;stroke:#000000;stroke-linecap:square;stroke-linejoin:miter;stroke-width:0.8;\"/>\r\n   </g>\r\n  </g>\r\n </g>\r\n <defs>\r\n  <clipPath id=\"pd3a2077160\">\r\n   <rect height=\"217.44\" width=\"334.8\" x=\"44.845313\" y=\"7.2\"/>\r\n  </clipPath>\r\n </defs>\r\n</svg>\r\n",
      "image/png": "[encoded data removed]"
     },
     "metadata": {
      "needs_background": "light"
     }
    }
   ],
   "source": [
    "%matplotlib inline\n",
    "import matplotlib.pyplot as plt\n",
    "\n",
    "# Generate  a sequence of numbers from -10 to 10 with 100 steps in between\n",
    "x = np.linspace(-10, 10, 100)\n",
    "# Create a second array using sine\n",
    "y = np.sin(x)\n",
    "# The plot function make a line chart of one array aganist another\n",
    "plt.plot(x, y, marker=\"x\")"
   ]
  },
  {
   "cell_type": "code",
   "execution_count": 7,
   "metadata": {},
   "outputs": [
    {
     "output_type": "display_data",
     "data": {
      "text/plain": "    Name  Location  Age\n0   John  New York   24\n1   Anna     Paris   13\n2  Peter    Berlin   53\n3  Linda    London   33",
      "text/html": "<div>\n<style scoped>\n    .dataframe tbody tr th:only-of-type {\n        vertical-align: middle;\n    }\n\n    .dataframe tbody tr th {\n        vertical-align: top;\n    }\n\n    .dataframe thead th {\n        text-align: right;\n    }\n</style>\n<table border=\"1\" class=\"dataframe\">\n  <thead>\n    <tr style=\"text-align: right;\">\n      <th></th>\n      <th>Name</th>\n      <th>Location</th>\n      <th>Age</th>\n    </tr>\n  </thead>\n  <tbody>\n    <tr>\n      <td>0</td>\n      <td>John</td>\n      <td>New York</td>\n      <td>24</td>\n    </tr>\n    <tr>\n      <td>1</td>\n      <td>Anna</td>\n      <td>Paris</td>\n      <td>13</td>\n    </tr>\n    <tr>\n      <td>2</td>\n      <td>Peter</td>\n      <td>Berlin</td>\n      <td>53</td>\n    </tr>\n    <tr>\n      <td>3</td>\n      <td>Linda</td>\n      <td>London</td>\n      <td>33</td>\n    </tr>\n  </tbody>\n</table>\n</div>"
     },
     "metadata": {}
    }
   ],
   "source": [
    "import pandas as pd\n",
    "\n",
    "# create a simple dataset of people\n",
    "data = {'Name': [\"John\",\"Anna\",\"Peter\",\"Linda\"], 'Location': [\"New York\", \"Paris\", \"Berlin\", \"London\"], 'Age': [24, 13, 53, 33]}\n",
    "data_pandas = pd.DataFrame(data)\n",
    "display(data_pandas)"
   ]
  },
  {
   "cell_type": "code",
   "execution_count": 8,
   "metadata": {},
   "outputs": [
    {
     "output_type": "display_data",
     "data": {
      "text/plain": "    Name Location  Age\n2  Peter   Berlin   53\n3  Linda   London   33",
      "text/html": "<div>\n<style scoped>\n    .dataframe tbody tr th:only-of-type {\n        vertical-align: middle;\n    }\n\n    .dataframe tbody tr th {\n        vertical-align: top;\n    }\n\n    .dataframe thead th {\n        text-align: right;\n    }\n</style>\n<table border=\"1\" class=\"dataframe\">\n  <thead>\n    <tr style=\"text-align: right;\">\n      <th></th>\n      <th>Name</th>\n      <th>Location</th>\n      <th>Age</th>\n    </tr>\n  </thead>\n  <tbody>\n    <tr>\n      <td>2</td>\n      <td>Peter</td>\n      <td>Berlin</td>\n      <td>53</td>\n    </tr>\n    <tr>\n      <td>3</td>\n      <td>Linda</td>\n      <td>London</td>\n      <td>33</td>\n    </tr>\n  </tbody>\n</table>\n</div>"
     },
     "metadata": {}
    }
   ],
   "source": [
    "# Select all rows that have an age column greater than 30\n",
    "display(data_pandas[data_pandas.Age > 30])"
   ]
  },
  {
   "cell_type": "code",
   "execution_count": 9,
   "metadata": {
    "tags": []
   },
   "outputs": [
    {
     "output_type": "stream",
     "name": "stdout",
     "text": "pandas version: 3.7.4 (default, Aug  9 2019, 18:34:13) [MSC v.1915 64 bit (AMD64)]\npandas version: 0.25.1\nnumpy version: 1.16.5\nSciPy version: 1.3.1\nIpython version: 7.8.0\nsklearn version: 0.21.3\n"
    }
   ],
   "source": [
    "import sys\n",
    "print(\"pandas version: {}\".format(sys.version))\n",
    "\n",
    "import pandas as pd\n",
    "print(\"pandas version: {}\".format(pd.__version__))\n",
    "\n",
    "import numpy as np\n",
    "print(\"numpy version: {}\".format(np.__version__))\n",
    "\n",
    "import scipy as sp\n",
    "print(\"SciPy version: {}\".format(sp.__version__))\n",
    "\n",
    "import IPython\n",
    "print(\"Ipython version: {}\".format(IPython.__version__))\n",
    "\n",
    "import sklearn\n",
    "print(\"sklearn version: {}\".format(sklearn.__version__))\n",
    "\n"
   ]
  },
  {
   "source": [
    "# A First Application: Classifying Iris Species\n",
    "\n",
    "We will go through a simple machine learning application and create our first model. In the process, we will introduce some core concepts and terms.\n",
    "\n",
    "Our goal is to build a machine learning model that can learn from the measurements of these irises whose species is known, so that we can predict the species for a new iris."
   ],
   "cell_type": "markdown",
   "metadata": {}
  },
  {
   "cell_type": "code",
   "execution_count": 10,
   "metadata": {},
   "outputs": [],
   "source": [
    "from sklearn.datasets import load_iris\n",
    "iris_dataset = load_iris()"
   ]
  },
  {
   "cell_type": "code",
   "execution_count": 11,
   "metadata": {
    "tags": []
   },
   "outputs": [
    {
     "output_type": "stream",
     "name": "stdout",
     "text": "Keys of iris_dataset: \ndict_keys(['data', 'target', 'target_names', 'DESCR', 'feature_names', 'filename'])\n"
    }
   ],
   "source": [
    "print(\"Keys of iris_dataset: \\n{}\".format(iris_dataset.keys()))"
   ]
  },
  {
   "source": [
    "The value of the key DESCR is a short description of the dataset. We show the beginning of the description here"
   ],
   "cell_type": "markdown",
   "metadata": {}
  },
  {
   "cell_type": "code",
   "execution_count": 12,
   "metadata": {
    "tags": []
   },
   "outputs": [
    {
     "output_type": "stream",
     "name": "stdout",
     "text": ".. _iris_dataset:\n\nIris plants dataset\n--------------------\n\n**Data Set Characteristics:**\n\n    :Number of Instances: 150 (50 in each of three classes)\n    :Number of Attributes: 4 numeric, pre\n...\n"
    }
   ],
   "source": [
    "print(iris_dataset['DESCR'][:193]+ \"\\n...\")"
   ]
  },
  {
   "cell_type": "code",
   "execution_count": 13,
   "metadata": {
    "tags": []
   },
   "outputs": [
    {
     "output_type": "stream",
     "name": "stdout",
     "text": "Target names: ['setosa' 'versicolor' 'virginica']\n"
    }
   ],
   "source": [
    "print(\"Target names: {}\".format(iris_dataset['target_names']))"
   ]
  },
  {
   "cell_type": "code",
   "execution_count": 14,
   "metadata": {
    "tags": []
   },
   "outputs": [
    {
     "output_type": "stream",
     "name": "stdout",
     "text": "Features names: ['sepal length (cm)', 'sepal width (cm)', 'petal length (cm)', 'petal width (cm)']\n"
    }
   ],
   "source": [
    "print(\"Features names: {}\".format(iris_dataset['feature_names']))"
   ]
  },
  {
   "source": [
    "The data itself is contained in the target and data fields. data contains the numeric measurements of sepal length, sepal width, petal length, and petal width in a NumPy array:"
   ],
   "cell_type": "markdown",
   "metadata": {}
  },
  {
   "cell_type": "code",
   "execution_count": 15,
   "metadata": {
    "tags": []
   },
   "outputs": [
    {
     "output_type": "stream",
     "name": "stdout",
     "text": "Type of data: <class 'numpy.ndarray'>\n"
    }
   ],
   "source": [
    "print(\"Type of data: {}\".format(type(iris_dataset['data'])))"
   ]
  },
  {
   "cell_type": "code",
   "execution_count": 16,
   "metadata": {
    "tags": []
   },
   "outputs": [
    {
     "output_type": "stream",
     "name": "stdout",
     "text": "Shape of data: (150, 4)\n"
    }
   ],
   "source": [
    "print(\"Shape of data: {}\".format(iris_dataset['data'].shape))"
   ]
  },
  {
   "source": [
    "We see that the array contains measurements for 150 different flowers. Remember\n",
    "that the individual items are called samples in machine learning, and their properties\n",
    "are called features. The shape of the data array is the number of samples multiplied by\n",
    "the number of features. This is a convention in scikit-learn, and your data will\n",
    "always be assumed to be in this shape. Here are the feature values for the first five\n",
    "samples:"
   ],
   "cell_type": "markdown",
   "metadata": {}
  },
  {
   "cell_type": "code",
   "execution_count": 17,
   "metadata": {
    "tags": []
   },
   "outputs": [
    {
     "output_type": "stream",
     "name": "stdout",
     "text": "Type of target: <class 'numpy.ndarray'>\n"
    }
   ],
   "source": [
    "print(\"Type of target: {}\".format(type(iris_dataset['target'])))"
   ]
  },
  {
   "cell_type": "code",
   "execution_count": 18,
   "metadata": {
    "tags": []
   },
   "outputs": [
    {
     "output_type": "stream",
     "name": "stdout",
     "text": "Shape of Target: [0 0 0 0 0 0 0 0 0 0 0 0 0 0 0 0 0 0 0 0 0 0 0 0 0 0 0 0 0 0 0 0 0 0 0 0 0\n 0 0 0 0 0 0 0 0 0 0 0 0 0 1 1 1 1 1 1 1 1 1 1 1 1 1 1 1 1 1 1 1 1 1 1 1 1\n 1 1 1 1 1 1 1 1 1 1 1 1 1 1 1 1 1 1 1 1 1 1 1 1 1 1 2 2 2 2 2 2 2 2 2 2 2\n 2 2 2 2 2 2 2 2 2 2 2 2 2 2 2 2 2 2 2 2 2 2 2 2 2 2 2 2 2 2 2 2 2 2 2 2 2\n 2 2]\n"
    }
   ],
   "source": [
    "print(\"Shape of Target: {}\".format(iris_dataset['target']))"
   ]
  },
  {
   "source": [
    "The meaning of the numbers are given by the iris\\['target_names'] array: 0 means setosa, 1 means versicolor, and 2 means virginica"
   ],
   "cell_type": "markdown",
   "metadata": {}
  },
  {
   "source": [
    "# Measuring Sucess: Training and Testing Data\n",
    "We want to build a machine learning model from this data that can predict the species of iris for a new set of measurements. But before we can apply our model to new measurements, we need to know whether it actually works - that is, whether we should trust its predictions. "
   ],
   "cell_type": "markdown",
   "metadata": {}
  },
  {
   "cell_type": "code",
   "execution_count": 19,
   "metadata": {},
   "outputs": [],
   "source": [
    "from sklearn.model_selection import train_test_split\n",
    "x_train, x_test, y_train, y_test = train_test_split(iris_dataset['data'],iris_dataset['target'], random_state=0)"
   ]
  },
  {
   "cell_type": "code",
   "execution_count": 20,
   "metadata": {
    "tags": []
   },
   "outputs": [
    {
     "output_type": "stream",
     "name": "stdout",
     "text": "x_train shape: (112, 4)\ny_trian shape: (112,)\n"
    }
   ],
   "source": [
    "print(\"x_train shape: {}\".format(x_train.shape))\n",
    "print(\"y_trian shape: {}\".format(y_train.shape))"
   ]
  },
  {
   "cell_type": "code",
   "execution_count": 21,
   "metadata": {
    "tags": []
   },
   "outputs": [
    {
     "output_type": "stream",
     "name": "stdout",
     "text": "x_test shape: (38, 4)\ny_test shape: (38,)\n"
    }
   ],
   "source": [
    "print(\"x_test shape: {}\".format(x_test.shape))\n",
    "print(\"y_test shape: {}\".format(y_test.shape))\n"
   ]
  },
  {
   "source": [
    "# First Things First: Look at Your Data"
   ],
   "cell_type": "markdown",
   "metadata": {}
  },
  {
   "cell_type": "code",
   "execution_count": 22,
   "metadata": {},
   "outputs": [
    {
     "output_type": "error",
     "ename": "AttributeError",
     "evalue": "module 'pandas' has no attribute 'scatter_matrix'",
     "traceback": [
      "\u001b[1;31m---------------------------------------------------------------------------\u001b[0m",
      "\u001b[1;31mAttributeError\u001b[0m                            Traceback (most recent call last)",
      "\u001b[1;32m<ipython-input-22-cc03f98d567d>\u001b[0m in \u001b[0;36m<module>\u001b[1;34m\u001b[0m\n\u001b[0;32m      3\u001b[0m \u001b[0miris_dataframe\u001b[0m \u001b[1;33m=\u001b[0m \u001b[0mpd\u001b[0m\u001b[1;33m.\u001b[0m\u001b[0mDataFrame\u001b[0m\u001b[1;33m(\u001b[0m\u001b[0mx_train\u001b[0m\u001b[1;33m,\u001b[0m \u001b[0mcolumns\u001b[0m\u001b[1;33m=\u001b[0m\u001b[0miris_dataset\u001b[0m\u001b[1;33m.\u001b[0m\u001b[0mfeature_names\u001b[0m\u001b[1;33m)\u001b[0m\u001b[1;33m\u001b[0m\u001b[1;33m\u001b[0m\u001b[0m\n\u001b[0;32m      4\u001b[0m \u001b[1;31m# create a scatter matrix from the dataframe, color by y_train\u001b[0m\u001b[1;33m\u001b[0m\u001b[1;33m\u001b[0m\u001b[1;33m\u001b[0m\u001b[0m\n\u001b[1;32m----> 5\u001b[1;33m \u001b[0mgrr\u001b[0m \u001b[1;33m=\u001b[0m \u001b[0mpd\u001b[0m\u001b[1;33m.\u001b[0m\u001b[0mscatter_matrix\u001b[0m\u001b[1;33m(\u001b[0m\u001b[0miris_dataframe\u001b[0m\u001b[1;33m,\u001b[0m \u001b[0mc\u001b[0m\u001b[1;33m=\u001b[0m\u001b[0my_train\u001b[0m\u001b[1;33m,\u001b[0m \u001b[0mfigsize\u001b[0m\u001b[1;33m=\u001b[0m \u001b[1;33m(\u001b[0m\u001b[1;36m15\u001b[0m\u001b[1;33m,\u001b[0m \u001b[1;36m15\u001b[0m\u001b[1;33m)\u001b[0m\u001b[1;33m,\u001b[0m \u001b[0mmarker\u001b[0m\u001b[1;33m=\u001b[0m\u001b[1;34m'o'\u001b[0m\u001b[1;33m,\u001b[0m \u001b[0mhist_kwds\u001b[0m\u001b[1;33m=\u001b[0m\u001b[1;33m{\u001b[0m\u001b[1;34m'bins'\u001b[0m\u001b[1;33m:\u001b[0m\u001b[1;36m20\u001b[0m\u001b[1;33m}\u001b[0m\u001b[1;33m,\u001b[0m \u001b[0ms\u001b[0m\u001b[1;33m=\u001b[0m\u001b[1;36m60\u001b[0m\u001b[1;33m,\u001b[0m \u001b[0malpha\u001b[0m\u001b[1;33m=\u001b[0m\u001b[1;36m.8\u001b[0m\u001b[1;33m,\u001b[0m \u001b[0mcmap\u001b[0m\u001b[1;33m=\u001b[0m\u001b[0mmglearn\u001b[0m\u001b[1;33m.\u001b[0m\u001b[0mcm3\u001b[0m\u001b[1;33m)\u001b[0m\u001b[1;33m\u001b[0m\u001b[1;33m\u001b[0m\u001b[0m\n\u001b[0m",
      "\u001b[1;32m~\\Anaconda3\\lib\\site-packages\\pandas\\__init__.py\u001b[0m in \u001b[0;36m__getattr__\u001b[1;34m(name)\u001b[0m\n\u001b[0;32m    212\u001b[0m \u001b[1;33m\u001b[0m\u001b[0m\n\u001b[0;32m    213\u001b[0m             \u001b[1;32mreturn\u001b[0m \u001b[0mPanel\u001b[0m\u001b[1;33m\u001b[0m\u001b[1;33m\u001b[0m\u001b[0m\n\u001b[1;32m--> 214\u001b[1;33m         \u001b[1;32mraise\u001b[0m \u001b[0mAttributeError\u001b[0m\u001b[1;33m(\u001b[0m\u001b[1;34m\"module 'pandas' has no attribute '{}'\"\u001b[0m\u001b[1;33m.\u001b[0m\u001b[0mformat\u001b[0m\u001b[1;33m(\u001b[0m\u001b[0mname\u001b[0m\u001b[1;33m)\u001b[0m\u001b[1;33m)\u001b[0m\u001b[1;33m\u001b[0m\u001b[1;33m\u001b[0m\u001b[0m\n\u001b[0m\u001b[0;32m    215\u001b[0m \u001b[1;33m\u001b[0m\u001b[0m\n\u001b[0;32m    216\u001b[0m \u001b[1;33m\u001b[0m\u001b[0m\n",
      "\u001b[1;31mAttributeError\u001b[0m: module 'pandas' has no attribute 'scatter_matrix'"
     ]
    }
   ],
   "source": [
    "# create dataframe from data in x_train\n",
    "# label the columns using the strings in iris_dataset.feature_names\n",
    "iris_dataframe = pd.DataFrame(x_train, columns=iris_dataset.feature_names)\n",
    "# create a scatter matrix from the dataframe, color by y_train\n",
    "grr = pd.scatter_matrix(iris_dataframe, c=y_train, figsize= (15, 15), marker='o', hist_kwds={'bins':20}, s=60, alpha=.8, cmap=mglearn.cm3)"
   ]
  },
  {
   "cell_type": "code",
   "execution_count": 23,
   "metadata": {},
   "outputs": [],
   "source": [
    "from sklearn.neighbors import KNeighborsClassifier\n",
    "knn = KNeighborsClassifier(n_neighbors=1)"
   ]
  },
  {
   "cell_type": "code",
   "execution_count": 24,
   "metadata": {},
   "outputs": [
    {
     "output_type": "execute_result",
     "data": {
      "text/plain": "KNeighborsClassifier(algorithm='auto', leaf_size=30, metric='minkowski',\n                     metric_params=None, n_jobs=None, n_neighbors=1, p=2,\n                     weights='uniform')"
     },
     "metadata": {},
     "execution_count": 24
    }
   ],
   "source": [
    "knn.fit(x_train, y_train)"
   ]
  },
  {
   "cell_type": "code",
   "execution_count": 25,
   "metadata": {
    "tags": []
   },
   "outputs": [
    {
     "output_type": "stream",
     "name": "stdout",
     "text": "X_new.shape: (1, 4)\n"
    }
   ],
   "source": [
    "x_new = np.array([[5, 2.9, 1, 0.2]])\n",
    "print(\"X_new.shape: {}\".format(x_new.shape))"
   ]
  },
  {
   "cell_type": "code",
   "execution_count": 26,
   "metadata": {
    "tags": []
   },
   "outputs": [
    {
     "output_type": "stream",
     "name": "stdout",
     "text": "Prediction: [0]\nPredicted target name: ['setosa']\n"
    }
   ],
   "source": [
    "prediction = knn.predict(x_new)\n",
    "print(\"Prediction: {}\".format(prediction))\n",
    "print(\"Predicted target name: {}\".format(iris_dataset['target_names'][prediction]))"
   ]
  },
  {
   "cell_type": "code",
   "execution_count": 27,
   "metadata": {
    "tags": []
   },
   "outputs": [
    {
     "output_type": "stream",
     "name": "stdout",
     "text": "Test set predictions:\n [2 1 0 2 0 2 0 1 1 1 2 1 1 1 1 0 1 1 0 0 2 1 0 0 2 0 0 1 1 0 2 1 0 2 2 1 0\n 2]\n"
    }
   ],
   "source": [
    "y_pred = knn.predict(x_test)\n",
    "print(\"Test set predictions:\\n {}\".format(y_pred))"
   ]
  },
  {
   "cell_type": "code",
   "execution_count": 28,
   "metadata": {
    "tags": []
   },
   "outputs": [
    {
     "output_type": "stream",
     "name": "stdout",
     "text": "Test set score: 0.97\n"
    }
   ],
   "source": [
    "print(\"Test set score: {:.2f}\".format(np.mean(y_pred == y_test)))"
   ]
  },
  {
   "cell_type": "code",
   "execution_count": 29,
   "metadata": {
    "tags": []
   },
   "outputs": [
    {
     "output_type": "stream",
     "name": "stdout",
     "text": "Test set score: 0.97\n"
    }
   ],
   "source": [
    "print(\"Test set score: {:.2f}\".format(knn.score(x_test, y_test)))"
   ]
  },
  {
   "cell_type": "code",
   "execution_count": 30,
   "metadata": {
    "tags": []
   },
   "outputs": [
    {
     "output_type": "stream",
     "name": "stdout",
     "text": "Test set score: 0.97\n"
    }
   ],
   "source": [
    "x_train, x_test, y_train, y_test = train_test_split(iris_dataset['data'], iris_dataset['target'], random_state=0)\n",
    "\n",
    "knn = KNeighborsClassifier(n_neighbors=1)\n",
    "knn.fit(x_train, y_train)\n",
    "\n",
    "print(\"Test set score: {:.2f}\".format(knn.score(x_test, y_test)))"
   ]
  },
  {
   "cell_type": "code",
   "execution_count": null,
   "metadata": {},
   "outputs": [],
   "source": []
  }
 ]
}